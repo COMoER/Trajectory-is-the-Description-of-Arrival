{
 "cells": [
  {
   "cell_type": "code",
   "execution_count": 1,
   "metadata": {},
   "outputs": [],
   "source": [
    "import pandas as pd\n",
    "import numpy as np\n",
    "import matplotlib.pyplot as plt\n",
    "%matplotlib inline"
   ]
  },
  {
   "cell_type": "code",
   "execution_count": 2,
   "outputs": [],
   "source": [
    "df = pd.read_csv(\"dataset/test.csv\",delimiter=',')\n",
    "df_train = pd.read_csv(\"dataset/train.csv\",delimiter=',')"
   ],
   "metadata": {
    "collapsed": false,
    "pycharm": {
     "name": "#%%\n"
    }
   }
  },
  {
   "cell_type": "markdown",
   "metadata": {
    "pycharm": {
     "name": "#%% md\n"
    }
   },
   "source": [
    "- TRIP_ID: (String) It contains an unique identifier for each trip;\n",
    "- TAXI_ID: (integer): It contains an unique identifier for the taxi driver that performed each trip;"
   ]
  },
  {
   "cell_type": "markdown",
   "metadata": {
    "pycharm": {
     "name": "#%% md\n"
    }
   },
   "source": [
    "- CALL_TYPE: (char) It identifies the way used to demand this service. It may contain one of three possible values:\n",
    "    - ‘A’ if this trip was dispatched from the central;\n",
    "    - ‘B’ if this trip was demanded directly to a taxi driver on a specific stand;\n",
    "    - ‘C’ otherwise (i.e. a trip demanded on a random street).\n"
   ]
  },
  {
   "cell_type": "code",
   "execution_count": 25,
   "metadata": {
    "pycharm": {
     "name": "#%%\n"
    }
   },
   "outputs": [
    {
     "data": {
      "text/html": [
       "<div>\n",
       "<style scoped>\n",
       "    .dataframe tbody tr th:only-of-type {\n",
       "        vertical-align: middle;\n",
       "    }\n",
       "\n",
       "    .dataframe tbody tr th {\n",
       "        vertical-align: top;\n",
       "    }\n",
       "\n",
       "    .dataframe thead th {\n",
       "        text-align: right;\n",
       "    }\n",
       "</style>\n",
       "<table border=\"1\" class=\"dataframe\">\n",
       "  <thead>\n",
       "    <tr style=\"text-align: right;\">\n",
       "      <th></th>\n",
       "      <th>counts</th>\n",
       "      <th>freqs</th>\n",
       "    </tr>\n",
       "    <tr>\n",
       "      <th>categories</th>\n",
       "      <th></th>\n",
       "      <th></th>\n",
       "    </tr>\n",
       "  </thead>\n",
       "  <tbody>\n",
       "    <tr>\n",
       "      <th>B</th>\n",
       "      <td>817881</td>\n",
       "      <td>0.478106</td>\n",
       "    </tr>\n",
       "    <tr>\n",
       "      <th>C</th>\n",
       "      <td>528019</td>\n",
       "      <td>0.308662</td>\n",
       "    </tr>\n",
       "    <tr>\n",
       "      <th>A</th>\n",
       "      <td>364770</td>\n",
       "      <td>0.213232</td>\n",
       "    </tr>\n",
       "  </tbody>\n",
       "</table>\n",
       "</div>"
      ],
      "text/plain": [
       "            counts     freqs\n",
       "categories                  \n",
       "B           817881  0.478106\n",
       "C           528019  0.308662\n",
       "A           364770  0.213232"
      ]
     },
     "execution_count": 25,
     "metadata": {},
     "output_type": "execute_result"
    }
   ],
   "source": [
    "pd.Categorical.describe(df_train['CALL_TYPE'])"
   ]
  },
  {
   "cell_type": "markdown",
   "metadata": {
    "pycharm": {
     "name": "#%% md\n"
    }
   },
   "source": [
    "- ORIGIN_CALL: (integer) It contains an unique identifier for each phone number which was used to demand, at least, one service.\n",
    "    - It identifies the trip’s customer if CALL_TYPE=’A’.\n",
    "    - Otherwise, it assumes a NULL value;"
   ]
  },
  {
   "cell_type": "code",
   "execution_count": 26,
   "metadata": {
    "pycharm": {
     "name": "#%%\n"
    }
   },
   "outputs": [
    {
     "data": {
      "text/html": [
       "<div>\n",
       "<style scoped>\n",
       "    .dataframe tbody tr th:only-of-type {\n",
       "        vertical-align: middle;\n",
       "    }\n",
       "\n",
       "    .dataframe tbody tr th {\n",
       "        vertical-align: top;\n",
       "    }\n",
       "\n",
       "    .dataframe thead th {\n",
       "        text-align: right;\n",
       "    }\n",
       "</style>\n",
       "<table border=\"1\" class=\"dataframe\">\n",
       "  <thead>\n",
       "    <tr style=\"text-align: right;\">\n",
       "      <th></th>\n",
       "      <th>counts</th>\n",
       "      <th>freqs</th>\n",
       "    </tr>\n",
       "    <tr>\n",
       "      <th>categories</th>\n",
       "      <th></th>\n",
       "      <th></th>\n",
       "    </tr>\n",
       "  </thead>\n",
       "  <tbody>\n",
       "    <tr>\n",
       "      <th>0.0</th>\n",
       "      <td>1345900</td>\n",
       "      <td>7.867678e-01</td>\n",
       "    </tr>\n",
       "    <tr>\n",
       "      <th>2002.0</th>\n",
       "      <td>57571</td>\n",
       "      <td>3.365407e-02</td>\n",
       "    </tr>\n",
       "    <tr>\n",
       "      <th>63882.0</th>\n",
       "      <td>6406</td>\n",
       "      <td>3.744732e-03</td>\n",
       "    </tr>\n",
       "    <tr>\n",
       "      <th>2001.0</th>\n",
       "      <td>2499</td>\n",
       "      <td>1.460831e-03</td>\n",
       "    </tr>\n",
       "    <tr>\n",
       "      <th>13168.0</th>\n",
       "      <td>1314</td>\n",
       "      <td>7.681201e-04</td>\n",
       "    </tr>\n",
       "    <tr>\n",
       "      <th>...</th>\n",
       "      <td>...</td>\n",
       "      <td>...</td>\n",
       "    </tr>\n",
       "    <tr>\n",
       "      <th>49856.0</th>\n",
       "      <td>1</td>\n",
       "      <td>5.845663e-07</td>\n",
       "    </tr>\n",
       "    <tr>\n",
       "      <th>36489.0</th>\n",
       "      <td>1</td>\n",
       "      <td>5.845663e-07</td>\n",
       "    </tr>\n",
       "    <tr>\n",
       "      <th>19072.0</th>\n",
       "      <td>1</td>\n",
       "      <td>5.845663e-07</td>\n",
       "    </tr>\n",
       "    <tr>\n",
       "      <th>20610.0</th>\n",
       "      <td>1</td>\n",
       "      <td>5.845663e-07</td>\n",
       "    </tr>\n",
       "    <tr>\n",
       "      <th>39154.0</th>\n",
       "      <td>1</td>\n",
       "      <td>5.845663e-07</td>\n",
       "    </tr>\n",
       "  </tbody>\n",
       "</table>\n",
       "<p>57106 rows × 2 columns</p>\n",
       "</div>"
      ],
      "text/plain": [
       "             counts         freqs\n",
       "categories                       \n",
       "0.0         1345900  7.867678e-01\n",
       "2002.0        57571  3.365407e-02\n",
       "63882.0        6406  3.744732e-03\n",
       "2001.0         2499  1.460831e-03\n",
       "13168.0        1314  7.681201e-04\n",
       "...             ...           ...\n",
       "49856.0           1  5.845663e-07\n",
       "36489.0           1  5.845663e-07\n",
       "19072.0           1  5.845663e-07\n",
       "20610.0           1  5.845663e-07\n",
       "39154.0           1  5.845663e-07\n",
       "\n",
       "[57106 rows x 2 columns]"
      ]
     },
     "execution_count": 26,
     "metadata": {},
     "output_type": "execute_result"
    }
   ],
   "source": [
    "pd.Categorical.describe(df_train[\"ORIGIN_CALL\"].fillna(0))"
   ]
  },
  {
   "cell_type": "markdown",
   "metadata": {},
   "source": [
    "- ORIGIN_STAND: (integer): It contains an unique identifier for the taxi stand. It identifies the starting point of the trip if CALL_TYPE=’B’. Otherwise, it assumes a NULL value;\n"
   ]
  },
  {
   "cell_type": "markdown",
   "metadata": {
    "pycharm": {
     "name": "#%% md\n"
    }
   },
   "source": [
    "- DAYTYPE: (char) It identifies the daytype of the trip’s start. It assumes one of three possible values:\n",
    "    - ‘B’ if this trip started on a holiday or any other special day (i.e. extending holidays, floating holidays, etc.);\n",
    "    - ‘C’ if the trip started on a day before a type-B day;\n",
    "    - ‘A’ otherwise (i.e. a normal day, workday or weekend).\n",
    "\n",
    "The following cell indicates that only \"DAY_TYPE\" is a useless feature"
   ]
  },
  {
   "cell_type": "code",
   "execution_count": 28,
   "metadata": {
    "pycharm": {
     "name": "#%%\n"
    }
   },
   "outputs": [
    {
     "data": {
      "text/plain": [
       "count     1710670\n",
       "unique          1\n",
       "top             A\n",
       "freq      1710670\n",
       "Name: DAY_TYPE, dtype: object"
      ]
     },
     "execution_count": 28,
     "metadata": {},
     "output_type": "execute_result"
    }
   ],
   "source": [
    "df_train[\"DAY_TYPE\"].describe()"
   ]
  },
  {
   "cell_type": "markdown",
   "metadata": {
    "pycharm": {
     "name": "#%% md\n"
    }
   },
   "source": [
    "- MISSING_DATA: (Boolean) It is FALSE when the GPS data stream is complete and TRUE whenever one (or more) locations are missing\n",
    "\n",
    "The data with"
   ]
  },
  {
   "cell_type": "code",
   "execution_count": 29,
   "metadata": {
    "pycharm": {
     "name": "#%%\n"
    }
   },
   "outputs": [
    {
     "data": {
      "text/html": [
       "<div>\n",
       "<style scoped>\n",
       "    .dataframe tbody tr th:only-of-type {\n",
       "        vertical-align: middle;\n",
       "    }\n",
       "\n",
       "    .dataframe tbody tr th {\n",
       "        vertical-align: top;\n",
       "    }\n",
       "\n",
       "    .dataframe thead th {\n",
       "        text-align: right;\n",
       "    }\n",
       "</style>\n",
       "<table border=\"1\" class=\"dataframe\">\n",
       "  <thead>\n",
       "    <tr style=\"text-align: right;\">\n",
       "      <th></th>\n",
       "      <th>TRIP_ID</th>\n",
       "      <th>CALL_TYPE</th>\n",
       "      <th>ORIGIN_CALL</th>\n",
       "      <th>ORIGIN_STAND</th>\n",
       "      <th>TAXI_ID</th>\n",
       "      <th>TIMESTAMP</th>\n",
       "      <th>DAY_TYPE</th>\n",
       "      <th>MISSING_DATA</th>\n",
       "      <th>POLYLINE</th>\n",
       "    </tr>\n",
       "  </thead>\n",
       "  <tbody>\n",
       "    <tr>\n",
       "      <th>105621</th>\n",
       "      <td>1374554455620000625</td>\n",
       "      <td>B</td>\n",
       "      <td>NaN</td>\n",
       "      <td>23.0</td>\n",
       "      <td>20000625</td>\n",
       "      <td>1374554455</td>\n",
       "      <td>A</td>\n",
       "      <td>True</td>\n",
       "      <td>[[-8.612559,41.145975],[-8.612577,41.145975],[...</td>\n",
       "    </tr>\n",
       "    <tr>\n",
       "      <th>171397</th>\n",
       "      <td>1375863510620000454</td>\n",
       "      <td>B</td>\n",
       "      <td>NaN</td>\n",
       "      <td>62.0</td>\n",
       "      <td>20000454</td>\n",
       "      <td>1375863510</td>\n",
       "      <td>A</td>\n",
       "      <td>True</td>\n",
       "      <td>[[-0.205893,41.010282]]</td>\n",
       "    </tr>\n",
       "    <tr>\n",
       "      <th>299137</th>\n",
       "      <td>1378544246620000057</td>\n",
       "      <td>B</td>\n",
       "      <td>NaN</td>\n",
       "      <td>55.0</td>\n",
       "      <td>20000057</td>\n",
       "      <td>1378544246</td>\n",
       "      <td>A</td>\n",
       "      <td>True</td>\n",
       "      <td>[[-8.569719,41.166135],[-8.567928,41.166477],[...</td>\n",
       "    </tr>\n",
       "    <tr>\n",
       "      <th>457486</th>\n",
       "      <td>1381233613620000387</td>\n",
       "      <td>C</td>\n",
       "      <td>NaN</td>\n",
       "      <td>NaN</td>\n",
       "      <td>20000387</td>\n",
       "      <td>1381233613</td>\n",
       "      <td>A</td>\n",
       "      <td>True</td>\n",
       "      <td>[[-8.626347,41.153436],[-8.626275,41.152905],[...</td>\n",
       "    </tr>\n",
       "    <tr>\n",
       "      <th>738466</th>\n",
       "      <td>1386346894620000904</td>\n",
       "      <td>C</td>\n",
       "      <td>NaN</td>\n",
       "      <td>NaN</td>\n",
       "      <td>20000904</td>\n",
       "      <td>1386346894</td>\n",
       "      <td>A</td>\n",
       "      <td>True</td>\n",
       "      <td>[[-8.652816,40.636575],[-8.652807,40.636566],[...</td>\n",
       "    </tr>\n",
       "    <tr>\n",
       "      <th>782321</th>\n",
       "      <td>1387137779620000640</td>\n",
       "      <td>C</td>\n",
       "      <td>NaN</td>\n",
       "      <td>NaN</td>\n",
       "      <td>20000640</td>\n",
       "      <td>1387137779</td>\n",
       "      <td>A</td>\n",
       "      <td>True</td>\n",
       "      <td>[[-8.604558,41.161941],[-8.604477,41.162013],[...</td>\n",
       "    </tr>\n",
       "    <tr>\n",
       "      <th>848552</th>\n",
       "      <td>1388351478620000678</td>\n",
       "      <td>A</td>\n",
       "      <td>9738.0</td>\n",
       "      <td>NaN</td>\n",
       "      <td>20000678</td>\n",
       "      <td>1388351478</td>\n",
       "      <td>A</td>\n",
       "      <td>True</td>\n",
       "      <td>[[-8.609697,41.160276],[-8.609571,41.16033],[-...</td>\n",
       "    </tr>\n",
       "    <tr>\n",
       "      <th>932391</th>\n",
       "      <td>1390005983620000640</td>\n",
       "      <td>C</td>\n",
       "      <td>NaN</td>\n",
       "      <td>NaN</td>\n",
       "      <td>20000640</td>\n",
       "      <td>1390005983</td>\n",
       "      <td>A</td>\n",
       "      <td>True</td>\n",
       "      <td>[[-8.604792,41.16123],[-8.604801,41.161167],[-...</td>\n",
       "    </tr>\n",
       "    <tr>\n",
       "      <th>1275934</th>\n",
       "      <td>1396631707620000163</td>\n",
       "      <td>C</td>\n",
       "      <td>NaN</td>\n",
       "      <td>NaN</td>\n",
       "      <td>20000163</td>\n",
       "      <td>1396631707</td>\n",
       "      <td>A</td>\n",
       "      <td>True</td>\n",
       "      <td>[[-10.634022,43.834248]]</td>\n",
       "    </tr>\n",
       "    <tr>\n",
       "      <th>1432196</th>\n",
       "      <td>1399405185620000508</td>\n",
       "      <td>C</td>\n",
       "      <td>NaN</td>\n",
       "      <td>NaN</td>\n",
       "      <td>20000508</td>\n",
       "      <td>1399405185</td>\n",
       "      <td>A</td>\n",
       "      <td>True</td>\n",
       "      <td>[[-8.620011,41.14683],[-8.619957,41.146659],[-...</td>\n",
       "    </tr>\n",
       "  </tbody>\n",
       "</table>\n",
       "</div>"
      ],
      "text/plain": [
       "                     TRIP_ID CALL_TYPE  ORIGIN_CALL  ORIGIN_STAND   TAXI_ID  \\\n",
       "105621   1374554455620000625         B          NaN          23.0  20000625   \n",
       "171397   1375863510620000454         B          NaN          62.0  20000454   \n",
       "299137   1378544246620000057         B          NaN          55.0  20000057   \n",
       "457486   1381233613620000387         C          NaN           NaN  20000387   \n",
       "738466   1386346894620000904         C          NaN           NaN  20000904   \n",
       "782321   1387137779620000640         C          NaN           NaN  20000640   \n",
       "848552   1388351478620000678         A       9738.0           NaN  20000678   \n",
       "932391   1390005983620000640         C          NaN           NaN  20000640   \n",
       "1275934  1396631707620000163         C          NaN           NaN  20000163   \n",
       "1432196  1399405185620000508         C          NaN           NaN  20000508   \n",
       "\n",
       "          TIMESTAMP DAY_TYPE  MISSING_DATA  \\\n",
       "105621   1374554455        A          True   \n",
       "171397   1375863510        A          True   \n",
       "299137   1378544246        A          True   \n",
       "457486   1381233613        A          True   \n",
       "738466   1386346894        A          True   \n",
       "782321   1387137779        A          True   \n",
       "848552   1388351478        A          True   \n",
       "932391   1390005983        A          True   \n",
       "1275934  1396631707        A          True   \n",
       "1432196  1399405185        A          True   \n",
       "\n",
       "                                                  POLYLINE  \n",
       "105621   [[-8.612559,41.145975],[-8.612577,41.145975],[...  \n",
       "171397                             [[-0.205893,41.010282]]  \n",
       "299137   [[-8.569719,41.166135],[-8.567928,41.166477],[...  \n",
       "457486   [[-8.626347,41.153436],[-8.626275,41.152905],[...  \n",
       "738466   [[-8.652816,40.636575],[-8.652807,40.636566],[...  \n",
       "782321   [[-8.604558,41.161941],[-8.604477,41.162013],[...  \n",
       "848552   [[-8.609697,41.160276],[-8.609571,41.16033],[-...  \n",
       "932391   [[-8.604792,41.16123],[-8.604801,41.161167],[-...  \n",
       "1275934                           [[-10.634022,43.834248]]  \n",
       "1432196  [[-8.620011,41.14683],[-8.619957,41.146659],[-...  "
      ]
     },
     "execution_count": 29,
     "metadata": {},
     "output_type": "execute_result"
    }
   ],
   "source": [
    "pd.Categorical.describe(df_train[\"MISSING_DATA\"])\n",
    "df_train[df_train['MISSING_DATA']==True]"
   ]
  },
  {
   "cell_type": "markdown",
   "metadata": {
    "pycharm": {
     "name": "#%% md\n"
    }
   },
   "source": [
    "- TIMESTAMP: (integer) Unix Timestamp (in seconds). It identifies the trip’s start;"
   ]
  },
  {
   "cell_type": "code",
   "execution_count": 30,
   "metadata": {
    "pycharm": {
     "name": "#%%\n"
    }
   },
   "outputs": [
    {
     "data": {
      "text/html": [
       "<div>\n",
       "<style scoped>\n",
       "    .dataframe tbody tr th:only-of-type {\n",
       "        vertical-align: middle;\n",
       "    }\n",
       "\n",
       "    .dataframe tbody tr th {\n",
       "        vertical-align: top;\n",
       "    }\n",
       "\n",
       "    .dataframe thead th {\n",
       "        text-align: right;\n",
       "    }\n",
       "</style>\n",
       "<table border=\"1\" class=\"dataframe\">\n",
       "  <thead>\n",
       "    <tr style=\"text-align: right;\">\n",
       "      <th></th>\n",
       "      <th>counts</th>\n",
       "      <th>freqs</th>\n",
       "    </tr>\n",
       "    <tr>\n",
       "      <th>categories</th>\n",
       "      <th></th>\n",
       "      <th></th>\n",
       "    </tr>\n",
       "  </thead>\n",
       "  <tbody>\n",
       "    <tr>\n",
       "      <th>4</th>\n",
       "      <td>277313</td>\n",
       "      <td>0.162108</td>\n",
       "    </tr>\n",
       "    <tr>\n",
       "      <th>5</th>\n",
       "      <td>258636</td>\n",
       "      <td>0.151190</td>\n",
       "    </tr>\n",
       "    <tr>\n",
       "      <th>3</th>\n",
       "      <td>247025</td>\n",
       "      <td>0.144402</td>\n",
       "    </tr>\n",
       "    <tr>\n",
       "      <th>1</th>\n",
       "      <td>234734</td>\n",
       "      <td>0.137218</td>\n",
       "    </tr>\n",
       "    <tr>\n",
       "      <th>2</th>\n",
       "      <td>232617</td>\n",
       "      <td>0.135980</td>\n",
       "    </tr>\n",
       "    <tr>\n",
       "      <th>6</th>\n",
       "      <td>230397</td>\n",
       "      <td>0.134682</td>\n",
       "    </tr>\n",
       "    <tr>\n",
       "      <th>0</th>\n",
       "      <td>229948</td>\n",
       "      <td>0.134420</td>\n",
       "    </tr>\n",
       "  </tbody>\n",
       "</table>\n",
       "</div>"
      ],
      "text/plain": [
       "            counts     freqs\n",
       "categories                  \n",
       "4           277313  0.162108\n",
       "5           258636  0.151190\n",
       "3           247025  0.144402\n",
       "1           234734  0.137218\n",
       "2           232617  0.135980\n",
       "6           230397  0.134682\n",
       "0           229948  0.134420"
      ]
     },
     "execution_count": 30,
     "metadata": {},
     "output_type": "execute_result"
    }
   ],
   "source": [
    "import datetime\n",
    "times = df_train[\"TIMESTAMP\"]\n",
    "x = [datetime.datetime.fromtimestamp(time, datetime.timezone.utc) for time in times]\n",
    "y = pd.DataFrame(np.array([(t.year,t.month,t.weekday()) for t in x],dtype=int),columns=['year','month','weekday'],dtype='object')\n",
    "pd.Categorical.describe(y['weekday'])"
   ]
  },
  {
   "cell_type": "markdown",
   "metadata": {
    "pycharm": {
     "name": "#%% md\n"
    }
   },
   "source": [
    "POLYLINE: (String): It contains a list of GPS coordinates (i.e. WGS84 format) mapped as a string. The beginning and the end of the string are identified with brackets (i.e. [ and ], respectively). Each pair of coordinates is also identified by the same brackets as [LONGITUDE, LATITUDE]. This list contains one pair of coordinates for each 15 seconds of trip. The last list item corresponds to the trip’s destination while the first one represents its start;"
   ]
  },
  {
   "cell_type": "code",
   "execution_count": 16,
   "metadata": {
    "pycharm": {
     "name": "#%%\n"
    }
   },
   "outputs": [],
   "source": [
    "def str2trajectory(df,n=-1,return_mask=False):\n",
    "    series = []\n",
    "    mask = []\n",
    "    if n>=0:\n",
    "        df_new = df.sample(n)\n",
    "        for flag,j in zip(df_new[\"MISSING_DATA\"],df_new[\"POLYLINE\"]):\n",
    "            try:\n",
    "                assert not flag\n",
    "                series.append(np.array(j.replace('[','').replace(']','').split(','),float))\n",
    "            except:\n",
    "                pass\n",
    "    else:\n",
    "        for flag,j in zip(df[\"MISSING_DATA\"],df[\"POLYLINE\"]):\n",
    "            try:\n",
    "                assert flag==False\n",
    "                series.append(np.array(j.replace('[','').replace(']','').split(','),float))\n",
    "                mask.append(True)\n",
    "            except:\n",
    "                mask.append(False)\n",
    "    if return_mask and n<0:\n",
    "        return series,np.array(mask)\n",
    "    else:\n",
    "        return series"
   ]
  },
  {
   "cell_type": "markdown",
   "metadata": {},
   "source": [
    "##### Geohash"
   ]
  },
  {
   "cell_type": "code",
   "execution_count": 3,
   "metadata": {},
   "outputs": [],
   "source": [
    "import numpy as np\n",
    "_base32 = np.array(list('0123456789bcdefghjkmnpqrstuvwxyz'))\n",
    "class GeoHash:\n",
    "    def __init__(self):\n",
    "        pass\n",
    "\n",
    "    @staticmethod\n",
    "    def _encode(lat, lon, mid_lat, mid_lon, pre, p,hashn):\n",
    "        if pre==-1:\n",
    "            return\n",
    "        hash_level_lat = 1 << (2 * pre)\n",
    "        hash_level_lon = 1 << (2 * pre+1)\n",
    "        mask_lat = lat > mid_lat\n",
    "        mask_lon = lon > mid_lon\n",
    "        hashn += hash_level_lat * mask_lat + hash_level_lon * mask_lon\n",
    "        mid_lat = mid_lat + (mask_lat * 2 - 1) * (180/(1<<p))\n",
    "        mid_lon = mid_lon + (mask_lon * 2 - 1) * (360/(1<<p))\n",
    "\n",
    "        GeoHash._encode(lat, lon, mid_lat, mid_lon, pre-1, p+1,hashn)\n",
    "    @staticmethod\n",
    "    def _d2c(hashn):\n",
    "        hashn = hashn.copy()\n",
    "        str_hash = np.full(hashn.shape[0],'',dtype=object)\n",
    "        while (hashn>0).any():\n",
    "            hash1 = list(hashn%32)\n",
    "            str_hash = _base32[hash1] + str_hash\n",
    "            hashn = hashn//32\n",
    "        return str_hash\n",
    "    @staticmethod\n",
    "    def encode(se: np.ndarray, pre=12,return_str = False):\n",
    "        \"\"\"\n",
    "        Args:\n",
    "            se:np.ndarray [lon,lat] mu LATITUDE 纬度, lam LONGITUDE 经度\n",
    "        Return:\n",
    "            geohash\n",
    "        \"\"\"\n",
    "        se_lat = se[1::2] + 90\n",
    "        se_lon = se[::2] + 180\n",
    "\n",
    "        hashn = np.zeros(se.shape[0]//2,dtype=np.int64)\n",
    "        mid_lat = np.full(se.shape[0]//2,90)\n",
    "        mid_lon = np.full(se.shape[0]//2,180)\n",
    "        GeoHash._encode(se_lat,se_lon,mid_lat,mid_lon,pre*5//2-1,2,hashn)\n",
    "        if return_str:\n",
    "            return hashn,GeoHash._d2c(hashn)\n",
    "        else:\n",
    "            return hashn\n",
    "    @staticmethod\n",
    "    def _decode(lon,lat,seq,p,pre):\n",
    "        if pre==-1:\n",
    "            return\n",
    "        lat_mask = (1<<(2*pre) & seq > 0)*2-1\n",
    "        lon_mask = (1<<(2*pre+1) & seq > 0)*2-1\n",
    "        lon += lon_mask*(180/(1<<p))\n",
    "        lat += lat_mask*(90/(1<<p))\n",
    "        GeoHash._decode(lon,lat,seq,p+1,pre-1)\n",
    "\n",
    "    @staticmethod\n",
    "    def decode(seq,pre=12):\n",
    "        \"\"\"\n",
    "        Args:\n",
    "            seq: (N,) encode\n",
    "        \"\"\"\n",
    "        lon = np.full(seq.shape[0],180.)\n",
    "        lat = np.full(seq.shape[0],90.)\n",
    "        GeoHash._decode(lon,lat,seq,1,pre*5//2-1)\n",
    "        lon -= 180\n",
    "        lat -= 90\n",
    "        return np.stack([lon,lat],1).reshape(-1)"
   ]
  },
  {
   "cell_type": "markdown",
   "metadata": {},
   "source": [
    "#### Using GeoHash to cluster"
   ]
  },
  {
   "cell_type": "code",
   "execution_count": 28,
   "metadata": {
    "pycharm": {
     "name": "#%%\n"
    }
   },
   "outputs": [],
   "source": [
    "GEOHASHLEVEL = 7\n",
    "class LonLatVocal:\n",
    "    def __init__(self):\n",
    "        self._wordMin = 0\n",
    "        self._wordMax = 0\n",
    "    def __len__(self):\n",
    "        return self._wordMax\n",
    "    def fit(self,df,n=100000,quantile=[0.01,0.99],verbose=False):\n",
    "        series = str2trajectory(df,n)\n",
    "        se = np.concatenate(series)\n",
    "        lat = se[1::2]\n",
    "        lon = se[::2]\n",
    "        def getQmask(x):\n",
    "            return np.logical_and(x<=np.quantile(x,quantile[1]),x>=np.quantile(x,quantile[0]))\n",
    "        mask = np.logical_and(getQmask(lat),getQmask(lon))\n",
    "        se_mask = np.stack([lon[mask],lat[mask]],1).reshape(-1)\n",
    "        x = GeoHash.encode(se_mask,GEOHASHLEVEL)\n",
    "        if verbose:\n",
    "            print(f\"Origin size {len(se):d}, [{quantile[0]},{quantile[1]}] {len(se_mask):d}\",)\n",
    "        self._wordMin = x.min()\n",
    "        x_short = x-self._wordMin\n",
    "        if verbose:\n",
    "            print(f\"reserved class size {max(x_short)}\")\n",
    "        self._wordMax = x_short.max()\n",
    "    def transform(self,series,arrival=False,return_mask=False,test=False):\n",
    "        series_trans = []\n",
    "        mask = []\n",
    "        for se in series:\n",
    "            x = GeoHash.encode(se,GEOHASHLEVEL)\n",
    "            x = x-self._wordMin\n",
    "            if test:\n",
    "                x[np.logical_or(x > self._wordMax,x < 0)] = -1 # padding\n",
    "                series_trans.append(x[-1] if arrival else x)\n",
    "                mask.append(True)\n",
    "                continue\n",
    "            if (x <= self._wordMax).all() and (x >= 0).all():\n",
    "                if arrival or len(x) > 1:\n",
    "                    series_trans.append(x[-1] if arrival else x)\n",
    "                    mask.append(True)\n",
    "                else:\n",
    "                    mask.append(False)\n",
    "            else:\n",
    "                mask.append(False)\n",
    "        if return_mask:\n",
    "            return series_trans,np.array(mask)\n",
    "        else:\n",
    "            return series_trans\n",
    "    def decode(self,trans_se,using_list=True):\n",
    "        \"\"\"\n",
    "        Args:\n",
    "            trans_se: (N,M) or (N,)\n",
    "        \"\"\"\n",
    "        assert not using_list and trans_se.ndim==1\n",
    "        if using_list:\n",
    "            decode_se = []\n",
    "            for se in trans_se:\n",
    "                se += self._wordMin\n",
    "                decode_se.append(GeoHash.decode(se,GEOHASHLEVEL))\n",
    "        else:\n",
    "            decode_se = GeoHash.decode(trans_se+self._wordMin,GEOHASHLEVEL)\n",
    "        return decode_se\n"
   ]
  },
  {
   "cell_type": "code",
   "execution_count": 29,
   "metadata": {
    "pycharm": {
     "name": "#%%\n"
    }
   },
   "outputs": [
    {
     "name": "stdout",
     "output_type": "stream",
     "text": [
      "Origin size 9550022, [0.01,0.99] 9264260\n",
      "reserved class size 56959\n"
     ]
    }
   ],
   "source": [
    "import pickle as pkl\n",
    "model = LonLatVocal()\n",
    "model.fit(df_train[:100000],n=-1,verbose=True)\n",
    "with open(\"geohashmodel.pt\",'wb') as f:\n",
    "    pkl.dump(model,f)"
   ]
  },
  {
   "cell_type": "markdown",
   "metadata": {},
   "source": [
    "Get the geohash of the arrival"
   ]
  },
  {
   "cell_type": "code",
   "execution_count": 23,
   "metadata": {},
   "outputs": [],
   "source": [
    "with open(\"geohashmodel.pt\",'rb') as f:\n",
    "    model = pkl.load(f)"
   ]
  },
  {
   "cell_type": "code",
   "execution_count": null,
   "outputs": [],
   "source": [
    "sample_df = df_train.sample(100000)\n",
    "series,mask = str2trajectory(sample_df,return_mask=True)\n",
    "sample_df = sample_df[mask]\n",
    "whole_seq,mask = model.transform(series,return_mask=True)\n",
    "arrival = np.array([seq[-1] for seq in whole_seq])\n",
    "starter = np.array([seq[0] for seq in whole_seq])\n",
    "train_seq = np.array([seq[:-1] for seq in whole_seq])\n",
    "sample_df = sample_df[mask]\n",
    "sample_df[\"arrival\"] = arrival\n",
    "sample_df[\"starter\"] = starter\n",
    "sample_df[\"seq\"] = train_seq\n",
    "# sample_df.to_csv(\"sample_data.csv\")"
   ],
   "metadata": {
    "collapsed": false,
    "pycharm": {
     "name": "#%%\n"
    }
   }
  },
  {
   "cell_type": "code",
   "execution_count": 2,
   "outputs": [],
   "source": [
    "# read csv sample data\n",
    "sample_df = pd.read_csv(\"sample_data.csv\")"
   ],
   "metadata": {
    "collapsed": false,
    "pycharm": {
     "name": "#%%\n"
    }
   }
  },
  {
   "cell_type": "markdown",
   "source": [
    "how to decode"
   ],
   "metadata": {
    "collapsed": false,
    "pycharm": {
     "name": "#%% md\n"
    }
   }
  },
  {
   "cell_type": "code",
   "execution_count": 85,
   "outputs": [
    {
     "data": {
      "text/plain": "<matplotlib.collections.PathCollection at 0x284b8752dc8>"
     },
     "execution_count": 85,
     "metadata": {},
     "output_type": "execute_result"
    },
    {
     "data": {
      "text/plain": "<Figure size 432x288 with 1 Axes>",
      "image/png": "[encoded data removed]"
     },
     "metadata": {
      "needs_background": "light"
     },
     "output_type": "display_data"
    }
   ],
   "source": [
    "arrival = sample_df[\"arrival\"].to_numpy()\n",
    "decode_loc = model.decode(arrival,using_list=False)\n",
    "plt.scatter(decode_loc[::2],decode_loc[1::2],s=5,c='b')\n",
    "starter = sample_df[\"starter\"].to_numpy()\n",
    "decode_loc = model.decode(starter,using_list=False)\n",
    "plt.scatter(decode_loc[::2],decode_loc[1::2],s=5,c='r')"
   ],
   "metadata": {
    "collapsed": false,
    "pycharm": {
     "name": "#%%\n"
    }
   }
  },
  {
   "cell_type": "code",
   "execution_count": 54,
   "metadata": {
    "pycharm": {
     "name": "#%%\n"
    }
   },
   "outputs": [
    {
     "name": "stdout",
     "output_type": "stream",
     "text": [
      "reserved testdataset points rate 94.805%\n"
     ]
    },
    {
     "data": {
      "text/plain": "<matplotlib.collections.PathCollection at 0x284b80ecb88>"
     },
     "execution_count": 54,
     "metadata": {},
     "output_type": "execute_result"
    },
    {
     "data": {
      "text/plain": "<Figure size 432x288 with 1 Axes>",
      "image/png": "[encoded data removed]"
     },
     "metadata": {
      "needs_background": "light"
     },
     "output_type": "display_data"
    }
   ],
   "source": [
    "series = str2trajectory(df)\n",
    "se = np.concatenate(series)\n",
    "plt.scatter(se[::2],se[1::2],s=3)\n",
    "x = GeoHash.encode(se,GEOHASHLEVEL)\n",
    "mask = np.logical_and((x - model._wordMin)<=model._wordMax,(x - model._wordMin)>=0)\n",
    "print(f\"reserved testdataset points rate {np.sum(mask)/len(x)*100:.3f}%\")\n",
    "plt.scatter(se[::2][mask],se[1::2][mask],s=3,c='r')"
   ]
  },
  {
   "cell_type": "markdown",
   "source": [
    "Using tfidf to compute the weight of which location in the trajectory"
   ],
   "metadata": {
    "collapsed": false,
    "pycharm": {
     "name": "#%% md\n"
    }
   }
  },
  {
   "cell_type": "code",
   "execution_count": 6,
   "outputs": [],
   "source": [
    "from gensim.models.tfidfmodel import TfidfModel\n",
    "import pickle as pkl\n",
    "import re\n",
    "texts = list(map(lambda x:list(map(lambda y:int(y),re.findall(r\"\\d+\",x))),sample_df[\"seq\"]))\n",
    "\n",
    "corpus = [np.stack(np.unique(np.array(doc),return_counts=True),1).tolist() for doc in texts]\n",
    "\n",
    "tf_idf_model = TfidfModel(corpus,)\n",
    "with open(\"tfidf.pt\",'wb') as f:\n",
    "    pkl.dump(tf_idf_model,f)"
   ],
   "metadata": {
    "collapsed": false,
    "pycharm": {
     "name": "#%%\n"
    }
   }
  },
  {
   "cell_type": "code",
   "execution_count": 16,
   "outputs": [
    {
     "name": "stdout",
     "output_type": "stream",
     "text": [
      "[0.07509015 0.05178594 0.02658674 0.06753242 0.04558014 0.0269427\n",
      " 0.01407923 0.01552355 0.03352426 0.04354235 0.02408757 0.04586631\n",
      " 0.02437939 0.01812977 0.02003916 0.01358982 0.0140324  0.03259611\n",
      " 0.01793601 0.01538431 0.07799199 0.0448497  0.01753327 0.03293609\n",
      " 0.03174622 0.05109159 0.01345426 0.03791158 0.01319773 0.02578257\n",
      " 0.02727668]\n"
     ]
    }
   ],
   "source": [
    "import pickle as pkl\n",
    "with open(\"tfidf.pt\",'rb') as f:\n",
    "    tf_idf_model = pkl.load(f)\n",
    "i = 1\n",
    "weight = np.array(list(map(lambda x:x[1],tf_idf_model[corpus[i]])))\n",
    "print(weight/weight.sum())"
   ],
   "metadata": {
    "collapsed": false,
    "pycharm": {
     "name": "#%%\n"
    }
   }
  },
  {
   "cell_type": "markdown",
   "metadata": {
    "pycharm": {
     "name": "#%% md\n"
    }
   },
   "source": [
    "longitude and latitude to xy coordination\n",
    "\n",
    "[source](https://blog.csdn.net/EagleLY5894/article/details/104118465)"
   ]
  },
  {
   "cell_type": "code",
   "execution_count": 90,
   "metadata": {
    "pycharm": {
     "name": "#%%\n"
    }
   },
   "outputs": [],
   "source": [
    "e = 0.0818191908426\n",
    "a = 6378137.0\n",
    "def transform(se_mulam):\n",
    "    \"\"\"\n",
    "    se_mulam [N,2] mu lam\n",
    "    mu LATITUDE 纬度, lam LONGITUDE 经度\n",
    "    \"\"\"\n",
    "    mu = se_mulam[:,0]\n",
    "    lam = se_mulam[:,1]\n",
    "    mu = np.deg2rad(mu)\n",
    "    lam = np.deg2rad(lam)\n",
    "    #\n",
    "    mu_0 = np.min(mu)\n",
    "    lambda_0 = np.min(lam)\n",
    "    Rn = a*(1-e**2)/(1-e**2*np.sin(mu_0)**2)**(3/2)\n",
    "    Re = a/(1-e**2*np.sin(mu_0)**2)**(1/2)\n",
    "    x = np.cos(mu)*Re*(lam-lambda_0)\n",
    "    y = Rn*(mu-mu_0)\n",
    "\n",
    "    return np.stack([x,y],1)"
   ]
  },
  {
   "cell_type": "code",
   "execution_count": 13,
   "metadata": {
    "pycharm": {
     "name": "#%%\n"
    }
   },
   "outputs": [
    {
     "data": {
      "text/plain": [
       "<matplotlib.collections.PathCollection at 0x1db3e213848>"
      ]
     },
     "execution_count": 13,
     "metadata": {},
     "output_type": "execute_result"
    },
    {
     "data": {
      "image/png": "[encoded data removed]",
      "text/plain": [
       "<Figure size 432x288 with 1 Axes>"
      ]
     },
     "metadata": {
      "needs_background": "light"
     },
     "output_type": "display_data"
    }
   ],
   "source": [
    "series = str2trajectory(df)\n",
    "se = np.concatenate(series)\n",
    "se_mu = se[1::2]\n",
    "se_lam = se[::2]\n",
    "se_mulam = np.stack([se_mu,se_lam],1)\n",
    "se_xy = transform(se_mulam)\n",
    "se_xy_n = (se_xy.astype(float)-se_xy.min(0,keepdims=True))/(se_xy.max(0,keepdims=True)-se_xy.min(0,keepdims=True))\n",
    "plt.scatter(se_xy_n[:,0],se_xy_n[:,1],s=3, c=\"red\")\n"
   ]
  },
  {
   "cell_type": "code",
   "execution_count": 15,
   "outputs": [
    {
     "data": {
      "text/plain": "<All keys matched successfully>"
     },
     "execution_count": 15,
     "metadata": {},
     "output_type": "execute_result"
    }
   ],
   "source": [
    "import torch\n",
    "import torch.nn as nn\n",
    "device = 'cuda:0'\n",
    "class skipgram(nn.Module):\n",
    "    def __init__(self, N, D):\n",
    "        super(skipgram, self).__init__()\n",
    "        self.D = D\n",
    "        self.embed = nn.Embedding(N+1, D) # including padding\n",
    "    def forward(self,x):\n",
    "        return self.embed(x)\n",
    "ckpt = torch.load(\"result_10.pt\",device)\n",
    "model_skip = skipgram(len(model)+2,32).to(device)\n",
    "model_skip.load_state_dict(ckpt)"
   ],
   "metadata": {
    "collapsed": false,
    "pycharm": {
     "name": "#%%\n"
    }
   }
  },
  {
   "cell_type": "code",
   "execution_count": 48,
   "outputs": [],
   "source": [
    "se,mask = str2trajectory(df,return_mask=True)\n",
    "seq,mask_seq = model.transform(se,arrival=False,return_mask=True,test=True)\n"
   ],
   "metadata": {
    "collapsed": false,
    "pycharm": {
     "name": "#%%\n"
    }
   }
  }
 ],
 "metadata": {
  "kernelspec": {
   "display_name": "yolov5",
   "language": "python",
   "name": "yolov5"
  },
  "language_info": {
   "codemirror_mode": {
    "name": "ipython",
    "version": 3
   },
   "file_extension": ".py",
   "mimetype": "text/x-python",
   "name": "python",
   "nbconvert_exporter": "python",
   "pygments_lexer": "ipython3",
   "version": "3.7.9"
  }
 },
 "nbformat": 4,
 "nbformat_minor": 1
}